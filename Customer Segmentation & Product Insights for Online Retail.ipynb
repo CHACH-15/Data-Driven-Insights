{
 "cells": [
  {
   "cell_type": "markdown",
   "id": "9c5fbad2-1eb7-49a8-928b-732ebd7fa53b",
   "metadata": {},
   "source": [
    "Customer Segmentation & Product Insights for Online Retail\n",
    "📌 Introduction : \n",
    "In this notebook, we perform an end-to-end analysis of customer behavior using an online retail dataset from Kaggle. \n",
    "The main goals are to identify customer segments through clustering and to analyze product purchasing patterns.\n",
    "Using scalable tools like Dask and scikit-learn, we clean and preprocess the data, engineer key behavioral features (such as recency and average quantity),\n",
    "and apply KMeans clustering to segment customers. \n",
    "We also identify the top-performing products by sales volume and visualize customer clusters using PCA for dimensionality reduction. \n",
    "This analysis supports more informed decisions in marketing, inventory, and customer relationship strategies.\n",
    "\n"
   ]
  },
  {
   "cell_type": "markdown",
   "id": "ac356abd-dc18-4488-a72b-5d68e6184f16",
   "metadata": {},
   "source": [
    "We begin by installing the complete Dask library, which enables efficient, scalable operations on large datasets. This is especially helpful for loading and processing data that may not fit entirely into memory."
   ]
  },
  {
   "cell_type": "code",
   "execution_count": 1,
   "id": "148eb49e-dc0e-40d9-b89b-46370ae7a086",
   "metadata": {},
   "outputs": [
    {
     "name": "stdout",
     "output_type": "stream",
     "text": [
      "Requirement already satisfied: dask[complete] in c:\\users\\chahd\\anaconda3\\lib\\site-packages (2024.5.0)\n",
      "Requirement already satisfied: click>=8.1 in c:\\users\\chahd\\anaconda3\\lib\\site-packages (from dask[complete]) (8.1.7)\n",
      "Requirement already satisfied: cloudpickle>=1.5.0 in c:\\users\\chahd\\anaconda3\\lib\\site-packages (from dask[complete]) (2.2.1)\n",
      "Requirement already satisfied: fsspec>=2021.09.0 in c:\\users\\chahd\\anaconda3\\lib\\site-packages (from dask[complete]) (2024.3.1)\n",
      "Requirement already satisfied: packaging>=20.0 in c:\\users\\chahd\\anaconda3\\lib\\site-packages (from dask[complete]) (23.2)\n",
      "Requirement already satisfied: partd>=1.2.0 in c:\\users\\chahd\\anaconda3\\lib\\site-packages (from dask[complete]) (1.4.1)\n",
      "Requirement already satisfied: pyyaml>=5.3.1 in c:\\users\\chahd\\anaconda3\\lib\\site-packages (from dask[complete]) (6.0.1)\n",
      "Requirement already satisfied: toolz>=0.10.0 in c:\\users\\chahd\\anaconda3\\lib\\site-packages (from dask[complete]) (0.12.0)\n",
      "Requirement already satisfied: pyarrow>=7.0 in c:\\users\\chahd\\anaconda3\\lib\\site-packages (from dask[complete]) (14.0.2)\n",
      "Requirement already satisfied: pyarrow-hotfix in c:\\users\\chahd\\anaconda3\\lib\\site-packages (from dask[complete]) (0.6)\n",
      "Requirement already satisfied: lz4>=4.3.2 in c:\\users\\chahd\\anaconda3\\lib\\site-packages (from dask[complete]) (4.3.2)\n",
      "Requirement already satisfied: colorama in c:\\users\\chahd\\anaconda3\\lib\\site-packages (from click>=8.1->dask[complete]) (0.4.6)\n",
      "Requirement already satisfied: locket in c:\\users\\chahd\\anaconda3\\lib\\site-packages (from partd>=1.2.0->dask[complete]) (1.0.0)\n",
      "Requirement already satisfied: numpy>=1.16.6 in c:\\users\\chahd\\anaconda3\\lib\\site-packages (from pyarrow>=7.0->dask[complete]) (1.26.4)\n",
      "Requirement already satisfied: pandas>=1.3 in c:\\users\\chahd\\anaconda3\\lib\\site-packages (from dask[complete]) (2.2.2)\n",
      "Requirement already satisfied: dask-expr<1.2,>=1.1 in c:\\users\\chahd\\anaconda3\\lib\\site-packages (from dask[complete]) (1.1.0)\n",
      "Requirement already satisfied: bokeh>=2.4.2 in c:\\users\\chahd\\anaconda3\\lib\\site-packages (from dask[complete]) (3.4.1)\n",
      "Requirement already satisfied: jinja2>=2.10.3 in c:\\users\\chahd\\anaconda3\\lib\\site-packages (from dask[complete]) (3.1.4)\n",
      "Requirement already satisfied: distributed==2024.5.0 in c:\\users\\chahd\\anaconda3\\lib\\site-packages (from dask[complete]) (2024.5.0)\n",
      "Requirement already satisfied: msgpack>=1.0.0 in c:\\users\\chahd\\anaconda3\\lib\\site-packages (from distributed==2024.5.0->dask[complete]) (1.0.3)\n",
      "Requirement already satisfied: psutil>=5.7.2 in c:\\users\\chahd\\anaconda3\\lib\\site-packages (from distributed==2024.5.0->dask[complete]) (5.9.0)\n",
      "Requirement already satisfied: sortedcontainers>=2.0.5 in c:\\users\\chahd\\anaconda3\\lib\\site-packages (from distributed==2024.5.0->dask[complete]) (2.4.0)\n",
      "Requirement already satisfied: tblib>=1.6.0 in c:\\users\\chahd\\anaconda3\\lib\\site-packages (from distributed==2024.5.0->dask[complete]) (1.7.0)\n",
      "Requirement already satisfied: tornado>=6.0.4 in c:\\users\\chahd\\anaconda3\\lib\\site-packages (from distributed==2024.5.0->dask[complete]) (6.4.1)\n",
      "Requirement already satisfied: urllib3>=1.24.3 in c:\\users\\chahd\\anaconda3\\lib\\site-packages (from distributed==2024.5.0->dask[complete]) (2.2.2)\n",
      "Requirement already satisfied: zict>=3.0.0 in c:\\users\\chahd\\anaconda3\\lib\\site-packages (from distributed==2024.5.0->dask[complete]) (3.0.0)\n",
      "Requirement already satisfied: contourpy>=1.2 in c:\\users\\chahd\\anaconda3\\lib\\site-packages (from bokeh>=2.4.2->dask[complete]) (1.2.0)\n",
      "Requirement already satisfied: pillow>=7.1.0 in c:\\users\\chahd\\anaconda3\\lib\\site-packages (from bokeh>=2.4.2->dask[complete]) (10.3.0)\n",
      "Requirement already satisfied: xyzservices>=2021.09.1 in c:\\users\\chahd\\anaconda3\\lib\\site-packages (from bokeh>=2.4.2->dask[complete]) (2022.9.0)\n",
      "Requirement already satisfied: MarkupSafe>=2.0 in c:\\users\\chahd\\anaconda3\\lib\\site-packages (from jinja2>=2.10.3->dask[complete]) (2.1.3)\n",
      "Requirement already satisfied: python-dateutil>=2.8.2 in c:\\users\\chahd\\anaconda3\\lib\\site-packages (from pandas>=1.3->dask[complete]) (2.9.0.post0)\n",
      "Requirement already satisfied: pytz>=2020.1 in c:\\users\\chahd\\anaconda3\\lib\\site-packages (from pandas>=1.3->dask[complete]) (2024.1)\n",
      "Requirement already satisfied: tzdata>=2022.7 in c:\\users\\chahd\\anaconda3\\lib\\site-packages (from pandas>=1.3->dask[complete]) (2023.3)\n",
      "Requirement already satisfied: six>=1.5 in c:\\users\\chahd\\anaconda3\\lib\\site-packages (from python-dateutil>=2.8.2->pandas>=1.3->dask[complete]) (1.16.0)\n"
     ]
    }
   ],
   "source": [
    "!pip install dask[complete]\n",
    "import dask.dataframe as dd\n"
   ]
  },
  {
   "cell_type": "code",
   "execution_count": 2,
   "id": "25f72695-2842-455b-b4f1-1eea0d51a25c",
   "metadata": {},
   "outputs": [],
   "source": [
    "import pandas as pd"
   ]
  },
  {
   "cell_type": "markdown",
   "id": "0ac170bc-9762-4d7f-9d3d-69205466f7ed",
   "metadata": {},
   "source": [
    "We use Dask to load the dataset in parallelized chunks to avoid memory overflows. The `InvoiceNo` column is explicitly read as an object to preserve any alphanumeric invoice identifiers."
   ]
  },
  {
   "cell_type": "code",
   "execution_count": 3,
   "id": "13f39298-fe8e-44df-a369-0b6bbfb8b36f",
   "metadata": {},
   "outputs": [
    {
     "data": {
      "text/html": [
       "<div>\n",
       "<style scoped>\n",
       "    .dataframe tbody tr th:only-of-type {\n",
       "        vertical-align: middle;\n",
       "    }\n",
       "\n",
       "    .dataframe tbody tr th {\n",
       "        vertical-align: top;\n",
       "    }\n",
       "\n",
       "    .dataframe thead th {\n",
       "        text-align: right;\n",
       "    }\n",
       "</style>\n",
       "<table border=\"1\" class=\"dataframe\">\n",
       "  <thead>\n",
       "    <tr style=\"text-align: right;\">\n",
       "      <th></th>\n",
       "      <th>InvoiceNo</th>\n",
       "      <th>StockCode</th>\n",
       "      <th>Description</th>\n",
       "      <th>Quantity</th>\n",
       "      <th>InvoiceDate</th>\n",
       "      <th>UnitPrice</th>\n",
       "      <th>CustomerID</th>\n",
       "      <th>Country</th>\n",
       "    </tr>\n",
       "  </thead>\n",
       "  <tbody>\n",
       "    <tr>\n",
       "      <th>0</th>\n",
       "      <td>536365</td>\n",
       "      <td>85123A</td>\n",
       "      <td>WHITE HANGING HEART T-LIGHT HOLDER</td>\n",
       "      <td>6</td>\n",
       "      <td>2010-12-01 08:26:00</td>\n",
       "      <td>2.55</td>\n",
       "      <td>17850</td>\n",
       "      <td>United Kingdom</td>\n",
       "    </tr>\n",
       "    <tr>\n",
       "      <th>1</th>\n",
       "      <td>536365</td>\n",
       "      <td>71053</td>\n",
       "      <td>WHITE METAL LANTERN</td>\n",
       "      <td>6</td>\n",
       "      <td>2010-12-01 08:26:00</td>\n",
       "      <td>3.39</td>\n",
       "      <td>17850</td>\n",
       "      <td>United Kingdom</td>\n",
       "    </tr>\n",
       "    <tr>\n",
       "      <th>2</th>\n",
       "      <td>536365</td>\n",
       "      <td>84406B</td>\n",
       "      <td>CREAM CUPID HEARTS COAT HANGER</td>\n",
       "      <td>8</td>\n",
       "      <td>2010-12-01 08:26:00</td>\n",
       "      <td>2.75</td>\n",
       "      <td>17850</td>\n",
       "      <td>United Kingdom</td>\n",
       "    </tr>\n",
       "    <tr>\n",
       "      <th>3</th>\n",
       "      <td>536365</td>\n",
       "      <td>84029G</td>\n",
       "      <td>KNITTED UNION FLAG HOT WATER BOTTLE</td>\n",
       "      <td>6</td>\n",
       "      <td>2010-12-01 08:26:00</td>\n",
       "      <td>3.39</td>\n",
       "      <td>17850</td>\n",
       "      <td>United Kingdom</td>\n",
       "    </tr>\n",
       "    <tr>\n",
       "      <th>4</th>\n",
       "      <td>536365</td>\n",
       "      <td>84029E</td>\n",
       "      <td>RED WOOLLY HOTTIE WHITE HEART.</td>\n",
       "      <td>6</td>\n",
       "      <td>2010-12-01 08:26:00</td>\n",
       "      <td>3.39</td>\n",
       "      <td>17850</td>\n",
       "      <td>United Kingdom</td>\n",
       "    </tr>\n",
       "  </tbody>\n",
       "</table>\n",
       "</div>"
      ],
      "text/plain": [
       "  InvoiceNo StockCode                          Description  Quantity  \\\n",
       "0    536365    85123A   WHITE HANGING HEART T-LIGHT HOLDER         6   \n",
       "1    536365     71053                  WHITE METAL LANTERN         6   \n",
       "2    536365    84406B       CREAM CUPID HEARTS COAT HANGER         8   \n",
       "3    536365    84029G  KNITTED UNION FLAG HOT WATER BOTTLE         6   \n",
       "4    536365    84029E       RED WOOLLY HOTTIE WHITE HEART.         6   \n",
       "\n",
       "           InvoiceDate  UnitPrice  CustomerID         Country  \n",
       "0  2010-12-01 08:26:00       2.55       17850  United Kingdom  \n",
       "1  2010-12-01 08:26:00       3.39       17850  United Kingdom  \n",
       "2  2010-12-01 08:26:00       2.75       17850  United Kingdom  \n",
       "3  2010-12-01 08:26:00       3.39       17850  United Kingdom  \n",
       "4  2010-12-01 08:26:00       3.39       17850  United Kingdom  "
      ]
     },
     "execution_count": 3,
     "metadata": {},
     "output_type": "execute_result"
    }
   ],
   "source": [
    "import dask.dataframe as dd\n",
    "df = dd.read_csv(\"C:/Users/chahd/Desktop/Online Retail.csv\", dtype={'InvoiceNo': 'object'})\n",
    "df.head()"
   ]
  },
  {
   "cell_type": "markdown",
   "id": "0958776b-0e43-4653-b8a6-8889208c324a",
   "metadata": {},
   "source": [
    "Compute and print the total number of missing values in each column. This informs subsequent data cleaning steps, helping us decide which columns or rows need to be addressed or dropped."
   ]
  },
  {
   "cell_type": "code",
   "execution_count": 20,
   "id": "f464ab4b-5ed0-42e2-89fb-61a64b3bc267",
   "metadata": {},
   "outputs": [
    {
     "name": "stdout",
     "output_type": "stream",
     "text": [
      "Missing values per column:\n",
      "InvoiceNo         0\n",
      "StockCode         0\n",
      "Description    1454\n",
      "Quantity          0\n",
      "InvoiceDate       0\n",
      "UnitPrice         0\n",
      "CustomerID        0\n",
      "Country           0\n",
      "dtype: int64\n"
     ]
    }
   ],
   "source": [
    " missing_values = df.isnull().sum().compute()\n",
    " print(\"Missing values per column:\")\n",
    " print(missing_values)"
   ]
  },
  {
   "cell_type": "markdown",
   "id": "6ab38e07-034b-464f-879f-197a5239d9e1",
   "metadata": {},
   "source": [
    "We drop rows that have missing values in key columns: `CustomerID`, `Quantity`, and `StockCode`. These fields are critical for behavior analysis and clustering."
   ]
  },
  {
   "cell_type": "code",
   "execution_count": 7,
   "id": "a87b833f-c143-4ae9-8043-8c783d95cf52",
   "metadata": {},
   "outputs": [],
   "source": [
    "df_cleaned = df.dropna(subset=['CustomerID', 'Quantity', 'StockCode'])"
   ]
  },
  {
   "cell_type": "markdown",
   "id": "db96ea8f-c304-468c-abf0-7eba7847848a",
   "metadata": {},
   "source": [
    "Duplicate transactions are removed to prevent skewed customer metrics like purchase frequency or total spend."
   ]
  },
  {
   "cell_type": "code",
   "execution_count": 9,
   "id": "b05bffa8-5461-4d80-a03e-7497c67c2b45",
   "metadata": {},
   "outputs": [],
   "source": [
    "df_cleaned = df_cleaned.drop_duplicates()"
   ]
  },
  {
   "cell_type": "markdown",
   "id": "95057ef9-6cb5-4a09-acfd-1f59491aa836",
   "metadata": {},
   "source": [
    "Data types are standardized for efficient computation and consistency. For example:\n",
    "- `InvoiceDate` is converted to datetime for time-based calculations.\n",
    "- `Quantity` is converted to float to ensure numerical accuracy.\n",
    "- `StockCode` is cast to string to treat it as a categorical identifier"
   ]
  },
  {
   "cell_type": "code",
   "execution_count": 11,
   "id": "1bf1c5ba-1306-47c9-855e-de26a476fe3f",
   "metadata": {},
   "outputs": [],
   "source": [
    "df_cleaned['InvoiceDate'] = dd.to_datetime(df_cleaned['InvoiceDate'])\n",
    "df_cleaned['Quantity'] = df_cleaned['Quantity'].astype('float64')\n",
    "df_cleaned['StockCode'] = df_cleaned['StockCode'].astype('str')"
   ]
  },
  {
   "cell_type": "markdown",
   "id": "95efebc5-da31-4d62-85b9-dea63391cfda",
   "metadata": {},
   "source": [
    "Negative quantities often represent product returns or corrections. For behavior modeling, we focus only on successful, positive-quantity transactions."
   ]
  },
  {
   "cell_type": "code",
   "execution_count": 18,
   "id": "ee63cd0e-51d4-4f6a-968d-1e54602348de",
   "metadata": {},
   "outputs": [],
   "source": [
    "df_cleaned = df_cleaned[df_cleaned['Quantity'] > 0]"
   ]
  },
  {
   "cell_type": "markdown",
   "id": "440065f5-bd7c-4940-b635-6e1f5660fa03",
   "metadata": {},
   "source": [
    "After preprocessing, the Dask DataFrame is computed into a standard Pandas DataFrame to enable more flexible operations like groupings and clustering."
   ]
  },
  {
   "cell_type": "code",
   "execution_count": 20,
   "id": "927a06f8-1c9a-4a8a-a536-a202819a344b",
   "metadata": {},
   "outputs": [],
   "source": [
    "cleaned_data=df_cleaned.compute()"
   ]
  },
  {
   "cell_type": "markdown",
   "id": "f7364706-3d01-4103-9794-a5939b7ad827",
   "metadata": {},
   "source": [
    "We aggregate customer behavior data using:\n",
    "- Total quantity purchased\n",
    "- Date of last transaction (recency base)\n",
    "- Total number of items (proxy for number of transactions or activity level)"
   ]
  },
  {
   "cell_type": "code",
   "execution_count": 22,
   "id": "ebd0b7ba-e446-41cf-bfed-01ff06170f72",
   "metadata": {},
   "outputs": [],
   "source": [
    "df_customer_behavior = cleaned_data.groupby('CustomerID').agg({\n",
    "    'Quantity': 'sum',\n",
    "    'InvoiceDate': 'max',  \n",
    "    'StockCode': 'count'  \n",
    "}).reset_index()"
   ]
  },
  {
   "cell_type": "code",
   "execution_count": 24,
   "id": "eee782b2-ba73-49b5-8498-bead5c783dd2",
   "metadata": {},
   "outputs": [],
   "source": [
    "df_customer_behavior['recency'] = (pd.to_datetime('today') - df_customer_behavior['InvoiceDate']).dt.days"
   ]
  },
  {
   "cell_type": "code",
   "execution_count": 26,
   "id": "a732368f-5abb-4623-9919-befd895d611c",
   "metadata": {},
   "outputs": [],
   "source": [
    "df_customer_behavior['avg_quantity_per_transaction'] = df_customer_behavior['Quantity'] / df_customer_behavior['StockCode']"
   ]
  },
  {
   "cell_type": "code",
   "execution_count": 28,
   "id": "a0a1e4e5-a10f-46a8-bda1-6e9342ac42e1",
   "metadata": {},
   "outputs": [
    {
     "data": {
      "text/html": [
       "<div>\n",
       "<style scoped>\n",
       "    .dataframe tbody tr th:only-of-type {\n",
       "        vertical-align: middle;\n",
       "    }\n",
       "\n",
       "    .dataframe tbody tr th {\n",
       "        vertical-align: top;\n",
       "    }\n",
       "\n",
       "    .dataframe thead th {\n",
       "        text-align: right;\n",
       "    }\n",
       "</style>\n",
       "<table border=\"1\" class=\"dataframe\">\n",
       "  <thead>\n",
       "    <tr style=\"text-align: right;\">\n",
       "      <th></th>\n",
       "      <th>CustomerID</th>\n",
       "      <th>Quantity</th>\n",
       "      <th>InvoiceDate</th>\n",
       "      <th>StockCode</th>\n",
       "      <th>recency</th>\n",
       "      <th>avg_quantity_per_transaction</th>\n",
       "    </tr>\n",
       "  </thead>\n",
       "  <tbody>\n",
       "    <tr>\n",
       "      <th>0</th>\n",
       "      <td>12346</td>\n",
       "      <td>74215.0</td>\n",
       "      <td>2011-01-18 10:01:00</td>\n",
       "      <td>1</td>\n",
       "      <td>5194</td>\n",
       "      <td>74215.000000</td>\n",
       "    </tr>\n",
       "    <tr>\n",
       "      <th>1</th>\n",
       "      <td>12347</td>\n",
       "      <td>2458.0</td>\n",
       "      <td>2011-12-07 15:52:00</td>\n",
       "      <td>182</td>\n",
       "      <td>4871</td>\n",
       "      <td>13.505495</td>\n",
       "    </tr>\n",
       "    <tr>\n",
       "      <th>2</th>\n",
       "      <td>12348</td>\n",
       "      <td>2341.0</td>\n",
       "      <td>2011-09-25 13:13:00</td>\n",
       "      <td>31</td>\n",
       "      <td>4944</td>\n",
       "      <td>75.516129</td>\n",
       "    </tr>\n",
       "    <tr>\n",
       "      <th>3</th>\n",
       "      <td>12349</td>\n",
       "      <td>631.0</td>\n",
       "      <td>2011-11-21 09:51:00</td>\n",
       "      <td>73</td>\n",
       "      <td>4887</td>\n",
       "      <td>8.643836</td>\n",
       "    </tr>\n",
       "    <tr>\n",
       "      <th>4</th>\n",
       "      <td>12350</td>\n",
       "      <td>197.0</td>\n",
       "      <td>2011-02-02 16:01:00</td>\n",
       "      <td>17</td>\n",
       "      <td>5179</td>\n",
       "      <td>11.588235</td>\n",
       "    </tr>\n",
       "  </tbody>\n",
       "</table>\n",
       "</div>"
      ],
      "text/plain": [
       "   CustomerID  Quantity         InvoiceDate  StockCode  recency  \\\n",
       "0       12346   74215.0 2011-01-18 10:01:00          1     5194   \n",
       "1       12347    2458.0 2011-12-07 15:52:00        182     4871   \n",
       "2       12348    2341.0 2011-09-25 13:13:00         31     4944   \n",
       "3       12349     631.0 2011-11-21 09:51:00         73     4887   \n",
       "4       12350     197.0 2011-02-02 16:01:00         17     5179   \n",
       "\n",
       "   avg_quantity_per_transaction  \n",
       "0                  74215.000000  \n",
       "1                     13.505495  \n",
       "2                     75.516129  \n",
       "3                      8.643836  \n",
       "4                     11.588235  "
      ]
     },
     "execution_count": 28,
     "metadata": {},
     "output_type": "execute_result"
    }
   ],
   "source": [
    "df_customer_behavior.head()"
   ]
  },
  {
   "cell_type": "markdown",
   "id": "80173dea-6381-4bde-a35f-9f7529cddcf4",
   "metadata": {},
   "source": [
    "We apply KMeans clustering to segment customers based on:\n",
    "- Total quantity\n",
    "- Recency\n",
    "- Number of transactions\n",
    "- Avg. quantity per transaction"
   ]
  },
  {
   "cell_type": "code",
   "execution_count": 30,
   "id": "8ed7460b-48c6-4641-b1e8-3dac6ea7a8bd",
   "metadata": {},
   "outputs": [
    {
     "name": "stdout",
     "output_type": "stream",
     "text": [
      "Customer Behavior with Clusters:\n",
      "   CustomerID  Quantity         InvoiceDate  StockCode  recency  \\\n",
      "0       12346   74215.0 2011-01-18 10:01:00          1     5194   \n",
      "1       12347    2458.0 2011-12-07 15:52:00        182     4871   \n",
      "2       12348    2341.0 2011-09-25 13:13:00         31     4944   \n",
      "3       12349     631.0 2011-11-21 09:51:00         73     4887   \n",
      "4       12350     197.0 2011-02-02 16:01:00         17     5179   \n",
      "\n",
      "   avg_quantity_per_transaction  cluster  \n",
      "0                  74215.000000        2  \n",
      "1                     13.505495        0  \n",
      "2                     75.516129        0  \n",
      "3                      8.643836        0  \n",
      "4                     11.588235        3  \n"
     ]
    }
   ],
   "source": [
    "from sklearn.preprocessing import StandardScaler\n",
    "from sklearn.cluster import KMeans\n",
    "\n",
    "\n",
    "features = ['Quantity', 'recency', 'StockCode', 'avg_quantity_per_transaction']\n",
    "X = df_customer_behavior[features]\n",
    "\n",
    "scaler = StandardScaler()\n",
    "X_scaled = scaler.fit_transform(X)\n",
    "\n",
    "\n",
    "kmeans = KMeans(n_clusters=5, random_state=42)\n",
    "df_customer_behavior['cluster'] = kmeans.fit_predict(X_scaled)\n",
    "\n",
    "print(\"Customer Behavior with Clusters:\")\n",
    "print(df_customer_behavior.head())"
   ]
  },
  {
   "cell_type": "markdown",
   "id": "e5f2352b-87ad-4d03-a798-7989f15759d2",
   "metadata": {},
   "source": [
    "We extract the top customers from a specific cluster (e.g., Cluster 0), which is assumed to contain highly engaged or high-value clients."
   ]
  },
  {
   "cell_type": "code",
   "execution_count": 32,
   "id": "9623edbe-8e02-4859-a686-8e296f49d359",
   "metadata": {},
   "outputs": [
    {
     "name": "stdout",
     "output_type": "stream",
     "text": [
      "Top High-Engagement Clients:\n",
      "      CustomerID  Quantity         InvoiceDate  StockCode  recency  \\\n",
      "1690       14646  197491.0 2011-12-08 12:12:00       2080     4870   \n",
      "3009       16446   80997.0 2011-12-09 09:15:00          3     4869   \n",
      "1880       14911   80490.0 2011-12-08 15:54:00       5672     4870   \n",
      "55         12415   77670.0 2011-11-15 14:22:00        716     4893   \n",
      "3729       17450   69973.0 2011-12-01 13:29:00        336     4877   \n",
      "\n",
      "      avg_quantity_per_transaction  cluster  \n",
      "1690                     94.947596        0  \n",
      "3009                  26999.000000        0  \n",
      "1880                     14.190762        0  \n",
      "55                      108.477654        0  \n",
      "3729                    208.252976        0  \n"
     ]
    }
   ],
   "source": [
    "high_engagement_cluster = 0\n",
    "top_clients = df_customer_behavior[df_customer_behavior['cluster'] == high_engagement_cluster]\n",
    "top_clients = top_clients.sort_values(by='Quantity', ascending=False)\n",
    "\n",
    "print(\"Top High-Engagement Clients:\")\n",
    "print(top_clients.head())"
   ]
  },
  {
   "cell_type": "markdown",
   "id": "a5f5aa20-00d1-46eb-b953-7b46c49d3eac",
   "metadata": {},
   "source": [
    "High Purchase Volume: Customers in Cluster 0 have significantly high total quantities purchased, often well above 70,000 units. This marks them as high-value clients.\n",
    "\n",
    "Long Recency Values: The recency values (close to 4870 days) seem unusually high. This suggests a potential issue with the reference date used (possibly due to miscalculation or incorrect InvoiceDate parsing). This should be revisited to ensure accuracy.\n",
    "\n",
    "Diverse Buying Patterns:\n",
    "\n",
    "Customer 16446 has an extraordinarily high average quantity per transaction (~27,000), indicating bulk purchases or wholesale-like behavior.\n",
    "\n",
    "Others have lower average quantities but still fall into the high-value bracket due to frequency or variety.\n",
    "\n",
    "Business Insight: This cluster likely represents VIP customers or B2B clients who purchase in high volume. These customers should be prioritized for loyalty programs, personalized offers, or premium support.\n",
    "\n"
   ]
  },
  {
   "cell_type": "markdown",
   "id": "216d9d17-a9cd-4f0a-b1bc-0389fd6572aa",
   "metadata": {},
   "source": [
    "We group the cleaned transactional data by `StockCode` to determine total quantity sold per product."
   ]
  },
  {
   "cell_type": "code",
   "execution_count": 36,
   "id": "2352d72e-e4aa-4a34-9db0-13c751e902b1",
   "metadata": {},
   "outputs": [],
   "source": [
    "top_products = cleaned_data.groupby('StockCode').agg({\n",
    "    'Quantity': 'sum'\n",
    "}).reset_index()"
   ]
  },
  {
   "cell_type": "markdown",
   "id": "fbe18acc-9f73-4ef2-a086-96f548cb137f",
   "metadata": {},
   "source": [
    "Sort the product list in descending order to identify the most purchased items."
   ]
  },
  {
   "cell_type": "code",
   "execution_count": 38,
   "id": "7e9510ed-f386-454b-8d76-f4513654ef49",
   "metadata": {},
   "outputs": [
    {
     "name": "stdout",
     "output_type": "stream",
     "text": [
      "Most Bought Products:\n",
      "     StockCode  Quantity\n",
      "2470     23843   80995.0\n",
      "2024     23166   78033.0\n",
      "1112     22197   56898.0\n",
      "2920     84077   54951.0\n",
      "3404    85099B   48375.0\n"
     ]
    }
   ],
   "source": [
    "top_products = top_products.sort_values(by='Quantity', ascending=False)\n",
    "print(\"Most Bought Products:\")\n",
    "print(top_products.head())"
   ]
  },
  {
   "cell_type": "markdown",
   "id": "8cae22dd-a058-4ccc-ad50-9f1bb076a769",
   "metadata": {},
   "source": [
    "Top-Selling Products (StockCodes 23843, 23166, etc.) have sold extremely high volumes, ranging from ~48K to ~81K units.\n",
    "\n",
    "The data suggests strong SKU-level concentration: A small number of products account for a significant portion of overall sales.\n",
    "\n",
    "These products may be:\n",
    "\n",
    "Staple or best-selling items (e.g., popular gifts or household essentials),\n",
    "\n",
    "High-margin stock frequently promoted or bundled,\n",
    "\n",
    "Or possibly used in seasonal promotions, which should be cross-verified with time-based sales analysis.\n",
    "\n",
    "📌 Business Implications:\n",
    "These products are core revenue drivers and should be kept in inventory with prioritized supply chain planning."
   ]
  },
  {
   "cell_type": "markdown",
   "id": "1dcc301d-cf64-4022-b289-387b0189767e",
   "metadata": {},
   "source": [
    "Summary:\n",
    "Cluster 0 contains high-volume, highly engaged customers—potentially corporate or wholesale buyers.\n",
    "\n",
    "The most bought products are likely strategic stock items that deserve attention in both operations and marketing."
   ]
  }
 ],
 "metadata": {
  "kernelspec": {
   "display_name": "Python 3 (ipykernel)",
   "language": "python",
   "name": "python3"
  },
  "language_info": {
   "codemirror_mode": {
    "name": "ipython",
    "version": 3
   },
   "file_extension": ".py",
   "mimetype": "text/x-python",
   "name": "python",
   "nbconvert_exporter": "python",
   "pygments_lexer": "ipython3",
   "version": "3.12.4"
  }
 },
 "nbformat": 4,
 "nbformat_minor": 5
}
