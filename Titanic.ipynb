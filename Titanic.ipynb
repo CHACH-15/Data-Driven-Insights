{
 "cells": [
  {
   "cell_type": "code",
   "execution_count": 51,
   "id": "35bdd31c-7332-405f-9602-f56978378907",
   "metadata": {},
   "outputs": [],
   "source": [
    "import pandas as pd \n",
    "df_test = pd.read_csv(\"C:/Users/chahd/Desktop/projet_Data_mining/test.csv\")\n",
    "df_train = pd.read_csv(\"C:/Users/chahd/Desktop/projet_Data_mining/train.csv\")"
   ]
  },
  {
   "cell_type": "markdown",
   "id": "7352504a-c2d5-4a8b-9114-bb0478ff6976",
   "metadata": {},
   "source": [
    "## Chargement des données\n",
    "Dans cette cellule, nous importons la bibliothèque **pandas** et nous chargeons les jeux de données **d'entraînement** et **de test** à partir des fichiers CSV stockés localement."
   ]
  },
  {
   "cell_type": "code",
   "execution_count": 54,
   "id": "5879692b-a7cd-48ac-b02d-f60bb707226a",
   "metadata": {},
   "outputs": [
    {
     "data": {
      "text/html": [
       "<div>\n",
       "<style scoped>\n",
       "    .dataframe tbody tr th:only-of-type {\n",
       "        vertical-align: middle;\n",
       "    }\n",
       "\n",
       "    .dataframe tbody tr th {\n",
       "        vertical-align: top;\n",
       "    }\n",
       "\n",
       "    .dataframe thead th {\n",
       "        text-align: right;\n",
       "    }\n",
       "</style>\n",
       "<table border=\"1\" class=\"dataframe\">\n",
       "  <thead>\n",
       "    <tr style=\"text-align: right;\">\n",
       "      <th></th>\n",
       "      <th>PassengerId</th>\n",
       "      <th>Survived</th>\n",
       "      <th>Pclass</th>\n",
       "      <th>Name</th>\n",
       "      <th>Sex</th>\n",
       "      <th>Age</th>\n",
       "      <th>SibSp</th>\n",
       "      <th>Parch</th>\n",
       "      <th>Ticket</th>\n",
       "      <th>Fare</th>\n",
       "      <th>Cabin</th>\n",
       "      <th>Embarked</th>\n",
       "    </tr>\n",
       "  </thead>\n",
       "  <tbody>\n",
       "    <tr>\n",
       "      <th>0</th>\n",
       "      <td>1</td>\n",
       "      <td>0</td>\n",
       "      <td>3</td>\n",
       "      <td>Braund, Mr. Owen Harris</td>\n",
       "      <td>male</td>\n",
       "      <td>22.0</td>\n",
       "      <td>1</td>\n",
       "      <td>0</td>\n",
       "      <td>A/5 21171</td>\n",
       "      <td>7.2500</td>\n",
       "      <td>NaN</td>\n",
       "      <td>S</td>\n",
       "    </tr>\n",
       "    <tr>\n",
       "      <th>1</th>\n",
       "      <td>2</td>\n",
       "      <td>1</td>\n",
       "      <td>1</td>\n",
       "      <td>Cumings, Mrs. John Bradley (Florence Briggs Th...</td>\n",
       "      <td>female</td>\n",
       "      <td>38.0</td>\n",
       "      <td>1</td>\n",
       "      <td>0</td>\n",
       "      <td>PC 17599</td>\n",
       "      <td>71.2833</td>\n",
       "      <td>C85</td>\n",
       "      <td>C</td>\n",
       "    </tr>\n",
       "    <tr>\n",
       "      <th>2</th>\n",
       "      <td>3</td>\n",
       "      <td>1</td>\n",
       "      <td>3</td>\n",
       "      <td>Heikkinen, Miss. Laina</td>\n",
       "      <td>female</td>\n",
       "      <td>26.0</td>\n",
       "      <td>0</td>\n",
       "      <td>0</td>\n",
       "      <td>STON/O2. 3101282</td>\n",
       "      <td>7.9250</td>\n",
       "      <td>NaN</td>\n",
       "      <td>S</td>\n",
       "    </tr>\n",
       "    <tr>\n",
       "      <th>3</th>\n",
       "      <td>4</td>\n",
       "      <td>1</td>\n",
       "      <td>1</td>\n",
       "      <td>Futrelle, Mrs. Jacques Heath (Lily May Peel)</td>\n",
       "      <td>female</td>\n",
       "      <td>35.0</td>\n",
       "      <td>1</td>\n",
       "      <td>0</td>\n",
       "      <td>113803</td>\n",
       "      <td>53.1000</td>\n",
       "      <td>C123</td>\n",
       "      <td>S</td>\n",
       "    </tr>\n",
       "    <tr>\n",
       "      <th>4</th>\n",
       "      <td>5</td>\n",
       "      <td>0</td>\n",
       "      <td>3</td>\n",
       "      <td>Allen, Mr. William Henry</td>\n",
       "      <td>male</td>\n",
       "      <td>35.0</td>\n",
       "      <td>0</td>\n",
       "      <td>0</td>\n",
       "      <td>373450</td>\n",
       "      <td>8.0500</td>\n",
       "      <td>NaN</td>\n",
       "      <td>S</td>\n",
       "    </tr>\n",
       "  </tbody>\n",
       "</table>\n",
       "</div>"
      ],
      "text/plain": [
       "   PassengerId  Survived  Pclass  \\\n",
       "0            1         0       3   \n",
       "1            2         1       1   \n",
       "2            3         1       3   \n",
       "3            4         1       1   \n",
       "4            5         0       3   \n",
       "\n",
       "                                                Name     Sex   Age  SibSp  \\\n",
       "0                            Braund, Mr. Owen Harris    male  22.0      1   \n",
       "1  Cumings, Mrs. John Bradley (Florence Briggs Th...  female  38.0      1   \n",
       "2                             Heikkinen, Miss. Laina  female  26.0      0   \n",
       "3       Futrelle, Mrs. Jacques Heath (Lily May Peel)  female  35.0      1   \n",
       "4                           Allen, Mr. William Henry    male  35.0      0   \n",
       "\n",
       "   Parch            Ticket     Fare Cabin Embarked  \n",
       "0      0         A/5 21171   7.2500   NaN        S  \n",
       "1      0          PC 17599  71.2833   C85        C  \n",
       "2      0  STON/O2. 3101282   7.9250   NaN        S  \n",
       "3      0            113803  53.1000  C123        S  \n",
       "4      0            373450   8.0500   NaN        S  "
      ]
     },
     "execution_count": 54,
     "metadata": {},
     "output_type": "execute_result"
    }
   ],
   "source": [
    "df_train.head()"
   ]
  },
  {
   "cell_type": "markdown",
   "id": "d95127da-334d-4e79-b116-8a9c40b8e53c",
   "metadata": {},
   "source": [
    "## Aperçu du jeu de données d'entraînement\n",
    "\n",
    "Dans cette cellule, nous affichons les **5 premières lignes** du jeu de données d'entraînement df_train` à l'aide de la fonction `head()`.  \n",
    "Cela permet d'obtenir un premier aperçu des variables disponibles et de leur format.\n",
    "\n",
    "Ce dataset est issu du célèbre naufrage du **RMS Titanic**, survenu lors de son voyage inaugural en avril 1912.  \r\n",
    "Le Titanic a heurté un iceberg et a coulé, entraînant la mort de **1502 personnes** sur **2224 passagers** et membres d'équipage.  \r\n",
    "Ce drame a profondément marqué l'histoire et a entraîné d'importantes réformes en matière de sécurité maritime.\r\n",
    "\r\n",
    "Le dataset propose des informations sur un échantillon de passagers du Titanic, notamment des données **personnelles** et **socio-économiques**.  \r\n",
    "L'objectif est d'utiliser ces informations pour **prédire la probabilité de survie** d'un passager en fonction de certaines caractéristiques.\r\n",
    "\r\n",
    "## Caractéristiques du dataset\r\n",
    "\r\n",
    "- **PassengerId** : Identifiant unique du passager.\r\n",
    "- **Survived** : Indicateur de survie (0 = Non, 1 = Oui).\r\n",
    "- **Pclass** : Classe du billet (1ère, 2ème, ou 3ème classe).\r\n",
    "- **Name** : Nom complet du passager.\r\n",
    "- **Sex** : Sexe du passager.\r\n",
    "- **Age** : Âge du passager.\r\n",
    "- **SibSp** : Nombre de frères/sœurs et conjoints à bord.\r\n",
    "- **Parch** : Nombre de parents et enfants à bord.\r\n",
    "- **Ticket** : Numéro du billet.\r\n",
    "- **Fare** : Tarif payé pour le billet.\r\n",
    "- **Cabin** (parfois manquant).\r\n",
    "- **Embarked** : Port d'embarquement (C = Cherbourg, Q = Queenstow, S = Southampton).\n",
    "\n"
   ]
  },
  {
   "cell_type": "code",
   "execution_count": 57,
   "id": "079e4d33-bb02-48d5-a4d8-d01817b07188",
   "metadata": {},
   "outputs": [
    {
     "name": "stdout",
     "output_type": "stream",
     "text": [
      "<class 'pandas.core.frame.DataFrame'>\n",
      "RangeIndex: 891 entries, 0 to 890\n",
      "Data columns (total 12 columns):\n",
      " #   Column       Non-Null Count  Dtype  \n",
      "---  ------       --------------  -----  \n",
      " 0   PassengerId  891 non-null    int64  \n",
      " 1   Survived     891 non-null    int64  \n",
      " 2   Pclass       891 non-null    int64  \n",
      " 3   Name         891 non-null    object \n",
      " 4   Sex          891 non-null    object \n",
      " 5   Age          714 non-null    float64\n",
      " 6   SibSp        891 non-null    int64  \n",
      " 7   Parch        891 non-null    int64  \n",
      " 8   Ticket       891 non-null    object \n",
      " 9   Fare         891 non-null    float64\n",
      " 10  Cabin        204 non-null    object \n",
      " 11  Embarked     889 non-null    object \n",
      "dtypes: float64(2), int64(5), object(5)\n",
      "memory usage: 83.7+ KB\n"
     ]
    }
   ],
   "source": [
    "df_train.info()"
   ]
  },
  {
   "cell_type": "markdown",
   "id": "14f60bfa-a562-42de-9eb4-67943480278f",
   "metadata": {},
   "source": [
    "## Informations générales sur le jeu de données d'entraînement\n",
    "\n",
    "Dans cette cellule, nous utilisons la méthode `info()` pour afficher des informations générales sur le DataFrame `df_train`, notamment :\n",
    "\n",
    "- Le nombre total de lignes et de colonnes,\n",
    "- Les noms des colonnes,\n",
    "- Le nombre de valeurs non nulles par colonne,\n",
    "- Le type de données de chaque colonne (int, float, object, etc.).\n",
    "\n",
    "Cette étape permet d'avoir une première idée sur la structure des données et d'identifier rapidement la présence de valeurs manquantes."
   ]
  },
  {
   "cell_type": "code",
   "execution_count": 60,
   "id": "812e8671-09c6-4cd6-8da2-35cc6b9f8174",
   "metadata": {},
   "outputs": [
    {
     "name": "stdout",
     "output_type": "stream",
     "text": [
      "PassengerId     0.000000\n",
      "Pclass          0.000000\n",
      "Name            0.000000\n",
      "Sex             0.000000\n",
      "Age            20.574163\n",
      "SibSp           0.000000\n",
      "Parch           0.000000\n",
      "Ticket          0.000000\n",
      "Fare            0.239234\n",
      "Cabin          78.229665\n",
      "Embarked        0.000000\n",
      "dtype: float64\n"
     ]
    }
   ],
   "source": [
    "nan_percentage = df_test.isna().mean() * 100\n",
    "print(nan_percentage)"
   ]
  },
  {
   "cell_type": "markdown",
   "id": "f3ac444e-b5be-43d7-9da3-e057d117e67c",
   "metadata": {},
   "source": [
    "## Pourcentage de valeurs manquantes dans le jeu de données de test\n",
    "\n",
    "Dans cette cellule, nous calculons le **pourcentage de valeurs manquantes** pour chaque colonne du DataFrame `df_test`.  \n",
    "La méthode utilisée est :\n",
    "\n",
    "- `isna()` : détecte les valeurs manquantes,\n",
    "- `mean()` : calcule la proportion de valeurs manquantes,\n",
    "- Multiplication par 100 pour obtenir un pourcentage.\n",
    "\n",
    "Cela permet d'identifier rapidement quelles colonnes nécessitent un traitement spécifique pour la gestion des données manquantes."
   ]
  },
  {
   "cell_type": "code",
   "execution_count": 63,
   "id": "4f951015-3600-422e-a6e3-e3e495ab7b97",
   "metadata": {},
   "outputs": [],
   "source": [
    "df_test.drop(\"Cabin\", axis=1, inplace=True)"
   ]
  },
  {
   "cell_type": "markdown",
   "id": "23343887-bce2-486d-ba9d-8f9451df95e9",
   "metadata": {},
   "source": [
    "## Suppression de la colonne \"Cabin\"\n",
    "\n",
    "La colonne **Cabin** contient environ **78 % de valeurs manquantes**, ce qui est très élevé.  \n",
    "Plutôt que d'essayer de la compléter ou de l'utiliser, nous choisissons de **supprimer** cette colonne du jeu de données `df_test` afin de simplifier l'analyse et d'améliorer la qualité du modèle.\n",
    "\n",
    "La suppression est réalisée avec la méthode `drop()` en spécifiant :\n",
    "- `\"Cabin\"` comme colonne à supprimer,\n",
    "- `axis=1` pour indiquer qu'on travaille sur les colonnes (et non les lignes),\n",
    "- `inplace=True` pour modifier directement `df_test` sans créer une nouvelle copie."
   ]
  },
  {
   "cell_type": "code",
   "execution_count": 66,
   "id": "757256bb-da29-44c7-8b3a-40f363c271b4",
   "metadata": {},
   "outputs": [
    {
     "name": "stdout",
     "output_type": "stream",
     "text": [
      "Pclass  Sex   \n",
      "1       female    41.333333\n",
      "        male      40.520000\n",
      "2       female    24.376552\n",
      "        male      30.940678\n",
      "3       female    23.073400\n",
      "        male      24.525104\n",
      "Name: Age, dtype: float64\n"
     ]
    }
   ],
   "source": [
    "average_age = df_test.groupby(['Pclass', 'Sex'])['Age'].mean()\n",
    "print(average_age)"
   ]
  },
  {
   "cell_type": "markdown",
   "id": "6e567adc-4773-494e-b4f6-79bf3df8733f",
   "metadata": {},
   "source": [
    "## Calcul de l'âge moyen par classe et par sexe\n",
    "\n",
    "Dans cette cellule, nous calculons l'**âge moyen** des passagers en fonction de leur **classe (`Pclass`)** et de leur **sexe (`Sex`)** dans le jeu de données `df_test`.\n",
    "\n",
    "La méthode utilisée est :\n",
    "- `groupby(['Pclass', 'Sex'])` : regroupe les données selon la classe et le sexe,\n",
    "- `['Age'].mean()` : calcule la moyenne des âges pour chaque groupe.\n",
    "\n",
    "Ce calcul est utile notamment pour **imputer** les âges manquants de manière plus précise en fonction du profil du passager (classe + sexe).\n"
   ]
  },
  {
   "cell_type": "code",
   "execution_count": 69,
   "id": "b8936dfe-5175-449b-8dbf-5207e6f0162b",
   "metadata": {},
   "outputs": [],
   "source": [
    "def fill_age(row):\n",
    "    if pd.isnull(row['Age']):\n",
    "        return average_age.loc[row['Pclass'], row['Sex']]\n",
    "    else:\n",
    "        return row['Age']\n",
    "\n",
    "df_test['Age'] = df_test.apply(fill_age, axis=1)\n"
   ]
  },
  {
   "cell_type": "markdown",
   "id": "9aa4cc71-8342-4bf0-b7d8-d9e83c8dd5c5",
   "metadata": {},
   "source": [
    "## Remplissage des âges manquants\n",
    "\n",
    "Dans cette cellule, nous créons une fonction `fill_age(row)` qui permet de **remplacer les valeurs manquantes** dans la colonne `Age` :\n",
    "\n",
    "- Si l'âge est manquant (`NaN`), la fonction attribue l'**âge moyen** correspondant à la **classe** (`Pclass`) et au **sexe** (`Sex`) du passager, calculé précédemment.\n",
    "- Sinon, elle conserve l'âge existant.\n",
    "\n",
    "Ensuite, nous appliquons cette fonction à chaque ligne du DataFrame `df_test` avec `apply(axis=1)` pour corriger les valeurs manquantes d'`Age`."
   ]
  },
  {
   "cell_type": "code",
   "execution_count": 72,
   "id": "cee50df6-c5ca-4471-abe3-0f083273fa8b",
   "metadata": {},
   "outputs": [
    {
     "name": "stderr",
     "output_type": "stream",
     "text": [
      "C:\\Users\\chahd\\AppData\\Local\\Temp\\ipykernel_7204\\1576205081.py:1: FutureWarning: A value is trying to be set on a copy of a DataFrame or Series through chained assignment using an inplace method.\n",
      "The behavior will change in pandas 3.0. This inplace method will never work because the intermediate object on which we are setting values always behaves as a copy.\n",
      "\n",
      "For example, when doing 'df[col].method(value, inplace=True)', try using 'df.method({col: value}, inplace=True)' or df[col] = df[col].method(value) instead, to perform the operation inplace on the original object.\n",
      "\n",
      "\n",
      "  df_test['Fare'].fillna(df_test['Fare'].mean(), inplace=True)\n"
     ]
    }
   ],
   "source": [
    "df_test['Fare'].fillna(df_test['Fare'].mean(), inplace=True)"
   ]
  },
  {
   "cell_type": "markdown",
   "id": "f06e7026-004e-41e3-91e0-df25bda43e28",
   "metadata": {},
   "source": [
    "## Remplissage des valeurs manquantes de la colonne \"Fare\"\n",
    "\n",
    "Dans cette cellule, nous remplissons les valeurs manquantes de la colonne `Fare` avec la **moyenne** des tarifs présents dans le dataset `df_test`\n",
    "## Pourquoi utiliser la moyenne ?\n",
    "Il n'y a qu'un petit nombre de valeurs manquantes pour Fare, donc l'impact est limité.\n",
    "\n"
   ]
  },
  {
   "cell_type": "markdown",
   "id": "aa05e7df-9108-4aa5-a8fc-4ad6539aeb34",
   "metadata": {},
   "source": [
    "## Traitement du jeu de données d'entraînement (train)\n",
    "\n",
    "Nous appliquons le **même processus de préparation** sur le dataset `df_train` que celui réalisé sur `df_test`, afin d'assurer une cohérence entre les deux jeux de données."
   ]
  },
  {
   "cell_type": "code",
   "execution_count": 76,
   "id": "f96e9965-7add-4967-abe6-dc0ba24e2e73",
   "metadata": {},
   "outputs": [
    {
     "name": "stdout",
     "output_type": "stream",
     "text": [
      "PassengerId     0.000000\n",
      "Survived        0.000000\n",
      "Pclass          0.000000\n",
      "Name            0.000000\n",
      "Sex             0.000000\n",
      "Age            19.865320\n",
      "SibSp           0.000000\n",
      "Parch           0.000000\n",
      "Ticket          0.000000\n",
      "Fare            0.000000\n",
      "Cabin          77.104377\n",
      "Embarked        0.224467\n",
      "dtype: float64\n"
     ]
    }
   ],
   "source": [
    "nan2_percentage = df_train.isna().mean() * 100\n",
    "print(nan2_percentage)"
   ]
  },
  {
   "cell_type": "code",
   "execution_count": 78,
   "id": "a816a4d0-d66f-418f-9701-bca807739d30",
   "metadata": {},
   "outputs": [],
   "source": [
    "df_train.drop(\"Cabin\", axis=1, inplace=True)"
   ]
  },
  {
   "cell_type": "code",
   "execution_count": 80,
   "id": "979404d4-bc4c-47e2-800e-aa53dda6ba34",
   "metadata": {},
   "outputs": [
    {
     "name": "stdout",
     "output_type": "stream",
     "text": [
      "Pclass  Sex   \n",
      "1       female    34.611765\n",
      "        male      41.281386\n",
      "2       female    28.722973\n",
      "        male      30.740707\n",
      "3       female    21.750000\n",
      "        male      26.507589\n",
      "Name: Age, dtype: float64\n"
     ]
    }
   ],
   "source": [
    "average1_age = df_train.groupby(['Pclass', 'Sex'])['Age'].mean()\n",
    "print(average1_age)"
   ]
  },
  {
   "cell_type": "code",
   "execution_count": 82,
   "id": "688ab43e-0fed-45de-81d3-0b1725279d11",
   "metadata": {},
   "outputs": [],
   "source": [
    "def fill_age(row):\n",
    "    if pd.isnull(row['Age']):\n",
    "        return average1_age.loc[row['Pclass'], row['Sex']]\n",
    "    else:\n",
    "        return row['Age']\n",
    "\n",
    "df_train['Age'] = df_train.apply(fill_age, axis=1)"
   ]
  },
  {
   "cell_type": "code",
   "execution_count": 84,
   "id": "e2e04fdd-9370-4e1f-95b6-b02c48b57dcd",
   "metadata": {},
   "outputs": [
    {
     "name": "stderr",
     "output_type": "stream",
     "text": [
      "C:\\Users\\chahd\\AppData\\Local\\Temp\\ipykernel_7204\\3221546853.py:1: FutureWarning: A value is trying to be set on a copy of a DataFrame or Series through chained assignment using an inplace method.\n",
      "The behavior will change in pandas 3.0. This inplace method will never work because the intermediate object on which we are setting values always behaves as a copy.\n",
      "\n",
      "For example, when doing 'df[col].method(value, inplace=True)', try using 'df.method({col: value}, inplace=True)' or df[col] = df[col].method(value) instead, to perform the operation inplace on the original object.\n",
      "\n",
      "\n",
      "  df_train['Fare'].fillna(df_train['Fare'].mean(), inplace=True)\n"
     ]
    }
   ],
   "source": [
    "df_train['Fare'].fillna(df_train['Fare'].mean(), inplace=True)"
   ]
  },
  {
   "cell_type": "code",
   "execution_count": 86,
   "id": "e2cdc0a0-844d-4747-91b5-f15d39592675",
   "metadata": {},
   "outputs": [
    {
     "name": "stderr",
     "output_type": "stream",
     "text": [
      "C:\\Users\\chahd\\AppData\\Local\\Temp\\ipykernel_7204\\1398243356.py:2: FutureWarning: A value is trying to be set on a copy of a DataFrame or Series through chained assignment using an inplace method.\n",
      "The behavior will change in pandas 3.0. This inplace method will never work because the intermediate object on which we are setting values always behaves as a copy.\n",
      "\n",
      "For example, when doing 'df[col].method(value, inplace=True)', try using 'df.method({col: value}, inplace=True)' or df[col] = df[col].method(value) instead, to perform the operation inplace on the original object.\n",
      "\n",
      "\n",
      "  df_train['Embarked'].fillna(embarked_mode, inplace=True)\n"
     ]
    }
   ],
   "source": [
    "embarked_mode = df_train['Embarked'].mode()[0]\n",
    "df_train['Embarked'].fillna(embarked_mode, inplace=True)"
   ]
  },
  {
   "cell_type": "code",
   "execution_count": 88,
   "id": "b89b0fb9-70b4-4c82-b788-93460a766f15",
   "metadata": {},
   "outputs": [
    {
     "data": {
      "text/plain": [
       "PassengerId      int64\n",
       "Survived         int64\n",
       "Pclass           int64\n",
       "Name            object\n",
       "Sex             object\n",
       "Age            float64\n",
       "SibSp            int64\n",
       "Parch            int64\n",
       "Ticket          object\n",
       "Fare           float64\n",
       "Embarked        object\n",
       "dtype: object"
      ]
     },
     "execution_count": 88,
     "metadata": {},
     "output_type": "execute_result"
    }
   ],
   "source": [
    "df_train.dtypes\n"
   ]
  },
  {
   "cell_type": "code",
   "execution_count": 90,
   "id": "4ee95007-0530-49fe-b9ac-d3a4d731e3d7",
   "metadata": {},
   "outputs": [
    {
     "data": {
      "text/plain": [
       "PassengerId      int64\n",
       "Pclass           int64\n",
       "Name            object\n",
       "Sex             object\n",
       "Age            float64\n",
       "SibSp            int64\n",
       "Parch            int64\n",
       "Ticket          object\n",
       "Fare           float64\n",
       "Embarked        object\n",
       "dtype: object"
      ]
     },
     "execution_count": 90,
     "metadata": {},
     "output_type": "execute_result"
    }
   ],
   "source": [
    "df_test.dtypes"
   ]
  },
  {
   "cell_type": "code",
   "execution_count": 92,
   "id": "5b650569-c649-48f9-87e4-39138647e4fe",
   "metadata": {},
   "outputs": [],
   "source": [
    "df_train['Sex'] = df_train['Sex'].map({'male': 0, 'female': 1})\n",
    "df_test['Sex'] = df_test['Sex'].map({'male': 0, 'female': 1})"
   ]
  },
  {
   "cell_type": "markdown",
   "id": "c7d253a1-0b52-4734-a786-7add39c79473",
   "metadata": {},
   "source": [
    "## Transformation de la colonne \"Sex\" en variables numériques\n",
    "\n",
    "Dans cette cellule, nous transformons la colonne `Sex` (qui contient des valeurs catégorielles comme `'male'` et `'female'`) en **variables numériques** pour permettre une utilisation dans les modèles de machine learning.\n",
    "\n",
    "La transformation effectuée est la suivante :\n",
    "- `'male'` devient `0`\n",
    "- `'female'` devient `1`"
   ]
  },
  {
   "cell_type": "code",
   "execution_count": 95,
   "id": "a7b0a590-943f-412d-bde8-73417a065b56",
   "metadata": {},
   "outputs": [],
   "source": [
    "df_train['Embarked'] = df_train['Embarked'].map({'S': 0, 'C': 1,'Q':2})\n",
    "df_test['Embarked'] = df_test['Embarked'].map({'S': 0, 'C': 1,'Q':2})"
   ]
  },
  {
   "cell_type": "markdown",
   "id": "42583cc7-0705-42e1-accb-c7398de96017",
   "metadata": {},
   "source": [
    "## Transformation de la colonne \"Embarked\" en variables numériques\n",
    "\n",
    "Dans cette cellule, nous transformons la colonne `Embarked` (qui contient des valeurs catégorielles représentant les ports d'embarquement : `'S'`, `'C'`, et `'Q'`) en **variables numériques**.\n",
    "\n",
    "Les transformations appliquées sont les suivantes :\n",
    "- `'S'` devient `0`\n",
    "- `'C'` devient `1`\n",
    "- `'Q'` devient `2`\n",
    "\n",
    "Cette conversion est réalisée à l'aide de la méthode `map()` qui remplace les valeurs de la colonne par celles spécifiées dans le dictionnaire."
   ]
  },
  {
   "cell_type": "code",
   "execution_count": 98,
   "id": "ab967bab-dabc-4e4d-9609-cc01f35cd147",
   "metadata": {},
   "outputs": [],
   "source": [
    "df_train_no_pid = df_train.drop(columns=['PassengerId','Name','Ticket'])\n",
    "correlation_matrix = df_train_no_pid.corr()\n",
    "survived_correlation_values = correlation_matrix['Survived']"
   ]
  },
  {
   "cell_type": "markdown",
   "id": "47e9323f-5de5-48d6-9e10-c526b840e5d6",
   "metadata": {},
   "source": [
    "## Suppression des colonnes non pertinentes et calcul de la matrice de corrélation\n",
    "\n",
    "Dans cette cellule, nous effectuons deux étapes importantes :\n",
    "\n",
    "1. **Suppression des colonnes non pertinentes** :\n",
    "   Nous supprimons les colonnes `PassengerId`, `Name`, et `Ticket` du jeu de données `df_train`. Ces colonnes ne contiennent pas d'informations utiles pour la prédiction de la survie et ne devraient pas être utilisées dans les modèles.\n",
    "\n",
    "2. **Calcul de la matrice de corrélation** : Ensuite, nous calculons la matrice de corrélation sur le DataFrame df_train_no_pid pour analyser les relations entre les variables numériques. La méthode corr() permet de calculer le coefficient de corrélation de Pearson entre les variables.\n",
    "   \n",
    "3. **Extraction des valeurs de corrélation avec Survived** : Enfin, nous extrayons les valeurs de corrélation pour la colonne cible Survived. Cela nous permet d'identifier quelles variables ont la relation la plus forte (positive ou négative) avec la survie des passagers."
   ]
  },
  {
   "cell_type": "code",
   "execution_count": 101,
   "id": "2e4b8b79-2bbc-4c13-afbf-1f7dcbf45b15",
   "metadata": {},
   "outputs": [
    {
     "name": "stdout",
     "output_type": "stream",
     "text": [
      "Survived    1.000000\n",
      "Pclass     -0.338481\n",
      "Sex         0.543351\n",
      "Age        -0.067485\n",
      "SibSp      -0.035322\n",
      "Parch       0.081629\n",
      "Fare        0.257307\n",
      "Embarked    0.106811\n",
      "Name: Survived, dtype: float64\n"
     ]
    }
   ],
   "source": [
    "correlation_matrix = df_train.drop(columns=['PassengerId','Name','Ticket']).corr()\n",
    "correlation_with_survived = correlation_matrix['Survived']\n",
    "print(correlation_with_survived)"
   ]
  },
  {
   "cell_type": "markdown",
   "id": "1b3db453-27b5-4ab8-bda4-595888e2e029",
   "metadata": {},
   "source": [
    "Après avoir calculé la matrice de corrélation, nous avons extrait les valeurs de corrélation pour la colonne cible **`Survived`**.  \n",
    "Voici les résultats obtenus pour les différentes variables :\n",
    "\n",
    "| Variable  | Corrélation avec Survived |\n",
    "|-----------|---------------------------|\n",
    "| **Pclass** | -0.338481                 |\n",
    "| **Sex**    | 0.543351                  |\n",
    "| **Age**    | -0.067485                 |\n",
    "| **SibSp**  | -0.035322                 |\n",
    "| **Parch**  | 0.081629                  |\n",
    "| **Fare**   | 0.257307                  |\n",
    "| **Embarked** | 0.106811                |"
   ]
  },
  {
   "cell_type": "code",
   "execution_count": 104,
   "id": "add3360c-9431-48c1-bf15-2d58ba0d5a84",
   "metadata": {},
   "outputs": [
    {
     "data": {
      "image/png": "[encoded data removed]",
      "text/plain": [
       "<Figure size 800x600 with 1 Axes>"
      ]
     },
     "metadata": {},
     "output_type": "display_data"
    }
   ],
   "source": [
    "import pandas as pd\n",
    "import seaborn as sns\n",
    "import matplotlib.pyplot as plt\n",
    "\n",
    "plt.figure(figsize=(8, 6))\n",
    "sns.countplot(data=df_train, x='Sex', hue='Survived', palette='coolwarm')\n",
    "plt.title('Survival Count by Sex')\n",
    "plt.xlabel('Sex')\n",
    "plt.xticks([0, 1], ['Male', 'Female'])\n",
    "plt.ylabel('Count')\n",
    "plt.legend(title='Survived', labels=['No', 'Yes'])\n",
    "plt.show()\n"
   ]
  },
  {
   "cell_type": "markdown",
   "id": "8bc9fed6-429b-4f71-ba61-6530185732a5",
   "metadata": {},
   "source": [
    "### 1. Survival Count by Sex\n",
    "Ce graphe  montre la répartition du nombre de survivants et de non-survivants en fonction du sexe.  \r\n",
    "On observe que :  \r\n",
    "- Une majorité des hommes n'ont pas survécu.\r\n",
    "- À l'inverse, la plupart des femmes ont survécu.\r\n",
    "\r\n",
    "**Interprétation** :  \r\n",
    "Le sexe a eu un impact important sur les chances de survie, avec un avantage clair pour les femmes.\n",
    "\n"
   ]
  },
  {
   "cell_type": "code",
   "execution_count": 107,
   "id": "d404e72f-6c30-40be-b087-f25656a7aed3",
   "metadata": {},
   "outputs": [
    {
     "data": {
      "image/png": "[encoded data removed]",
      "text/plain": [
       "<Figure size 800x600 with 1 Axes>"
      ]
     },
     "metadata": {},
     "output_type": "display_data"
    }
   ],
   "source": [
    "age_bins = [0, 10, 20, 30, 40, 50, 60, 70, 80]\n",
    "df_train['Age_binned'] = pd.cut(df_train['Age'], bins=age_bins)\n",
    "\n",
    "plt.figure(figsize=(8, 6))\n",
    "sns.countplot(data=df_train, x='Age_binned', hue='Survived', palette='coolwarm')\n",
    "plt.title('Survival Count by Age Groups')\n",
    "plt.xlabel('Age Group')\n",
    "plt.ylabel('Count')\n",
    "plt.xticks(rotation=45)\n",
    "plt.legend(title='Survived', labels=['No', 'Yes'])\n",
    "plt.show()"
   ]
  },
  {
   "cell_type": "markdown",
   "id": "311c21e5-6535-4699-9c39-34eb7b462ff9",
   "metadata": {},
   "source": [
    "### 2. Survival Count by Age Groups\r",
    "Ce graphee illustre la survie selon les tranches d'âge.  \r\n",
    "On remarque que :  \r\n",
    "- Les jeunes enfants (0-10 ans) avaient de meilleures chances de survie que les adultes plus âgés.\r\n",
    "- La tranche d'âge 20-30 ans a le plus grand nombre de décès.\r\n",
    "- À partir de 50 ans, la survie devient très faible.\r\n",
    "\r\n",
    "**Interprétation** :  \r\n",
    "L'âge influence la survie, les enfants ayant été mieux protégés, tandis que les jeunes adultes ont été plus exposés au risque.\n",
    "\n"
   ]
  },
  {
   "cell_type": "code",
   "execution_count": 110,
   "id": "c4ed214e-b82b-4e73-a49b-95158da2f49c",
   "metadata": {},
   "outputs": [
    {
     "data": {
      "image/png": "[encoded data removed]",
      "text/plain": [
       "<Figure size 800x600 with 1 Axes>"
      ]
     },
     "metadata": {},
     "output_type": "display_data"
    }
   ],
   "source": [
    "plt.figure(figsize=(8, 6))\n",
    "sns.countplot(data=df_train, x='Pclass', hue='Survived', palette='coolwarm')\n",
    "plt.title('Survival Count by Pclass')\n",
    "plt.xlabel('Pclass')\n",
    "plt.ylabel('Count')\n",
    "plt.legend(title='Survived', labels=['No', 'Yes'])\n",
    "plt.show()"
   ]
  },
  {
   "cell_type": "markdown",
   "id": "34d5455f-736b-498d-9acf-cb7a0cc51651",
   "metadata": {},
   "source": [
    "### 3. Survival Count by Pclass\n",
    "Ce graphe représente la survie selon la classe de billet (`Pclass`).  \n",
    "On voit que :  \n",
    "- Les passagers de 1ère classe avaient une probabilité de survie plus élevée.\n",
    "- Les passagers de 3ème classe ont connu un taux de mortalité très élevé.\n",
    "- Les passagers de 2ème classe se trouvent entre les deux extrêmes.\n",
    "\n",
    "**Interprétation** :  \n",
    "La classe sociale jouait un rôle crucial dans la survie, les passagers de première classe ayant été priorisés dans les opérations de sauvetage."
   ]
  },
  {
   "cell_type": "markdown",
   "id": "d98a22a6-191b-452c-8b9f-0efb228e77bd",
   "metadata": {},
   "source": [
    "🧠 Synthèse : Qui sont les survivants ?\n",
    "✅ Profil typique d'un survivant :\n",
    "\n",
    "Une femme,\n",
    "\n",
    "en 1ʳᵉ classe,\n",
    "\n",
    "plutôt jeune ou enfant.\n",
    "\n",
    "❌ Profil typique d'une victime :\n",
    "\n",
    "Un homme,\n",
    "\n",
    "en 3ᵉ classe,\n",
    "\n",
    "souvent adulte ou personne âgée.\n"
   ]
  },
  {
   "cell_type": "code",
   "execution_count": 113,
   "id": "2f2a500d-0c3e-45a9-aad6-39c6afbb6285",
   "metadata": {},
   "outputs": [],
   "source": [
    "from sklearn.model_selection import train_test_split\n",
    "from sklearn.preprocessing import StandardScaler\n",
    "from sklearn.tree import DecisionTreeClassifier\n",
    "from sklearn.svm import SVC\n",
    "from sklearn.neighbors import KNeighborsClassifier\n",
    "from sklearn.metrics import accuracy_score"
   ]
  },
  {
   "cell_type": "markdown",
   "id": "fafe8287-f620-4c43-9bb9-8103379637f4",
   "metadata": {},
   "source": [
    "## 📚 Importation des bibliothèques\n",
    "\n",
    "Nous importons ici les bibliothèques nécessaires pour la préparation des données, la construction des modèles de machine learning, et l'évaluation de leur performance :\n",
    "\n",
    "- `train_test_split` : pour diviser les données en ensemble d'entraînement et ensemble de test.\n",
    "- `StandardScaler` : pour normaliser (standardiser) les caractéristiques en leur donnant une moyenne nulle et une variance unitaire.\n",
    "- `DecisionTreeClassifier` : pour construire un modèle d'arbre de décision.\n",
    "- `SVC` (Support Vector Classifier) : pour construire un modèle de machine à vecteurs de support (SVM).\n",
    "- `KNeighborsClassifier` : pour construire un modèle basé sur l'algorithme des k-plus proches voisins (KNN).\n",
    "- `accuracy_score` : pour évaluer la performance des modèles en calculant leur taux de précision."
   ]
  },
  {
   "cell_type": "code",
   "execution_count": 116,
   "id": "d089d6de-0a06-4bfe-b924-cd0aff91bbd3",
   "metadata": {},
   "outputs": [
    {
     "name": "stdout",
     "output_type": "stream",
     "text": [
      "Précision du modèle Arbre de Décision sur l'ensemble d'entraînement : 0.9798\n"
     ]
    }
   ],
   "source": [
    "features = ['Pclass', 'Sex', 'Age', 'Fare', 'Embarked']\n",
    "X_train = df_train[features]\n",
    "y_train = df_train['Survived']\n",
    "X_test = df_test[features]\n",
    "\n",
    "# 5. Normalisation des données\n",
    "scaler = StandardScaler()\n",
    "X_train_scaled = scaler.fit_transform(X_train)\n",
    "X_test_scaled = scaler.transform(X_test)\n",
    "\n",
    "# 6. Entraînement du modèle Arbre de Décision\n",
    "dt_model = DecisionTreeClassifier()\n",
    "dt_model.fit(X_train_scaled, y_train)\n",
    "\n",
    "# 7. Évaluation du modèle sur l'ensemble d'entraînement\n",
    "y_pred_train = dt_model.predict(X_train_scaled)\n",
    "accuracy_train = accuracy_score(y_train, y_pred_train)\n",
    "print(f\"Précision du modèle Arbre de Décision sur l'ensemble d'entraînement : {accuracy_train:.4f}\")"
   ]
  },
  {
   "cell_type": "markdown",
   "id": "0156e043-174b-4100-8b22-bf14195bca15",
   "metadata": {},
   "source": [
    "## ⚙️ Sélection des caractéristiques (features)\n",
    "\n",
    "Nous avons sélectionné les variables suivantes comme caractéristiques d'entrée (`features`) pour entraîner notre modèle :\n",
    "\n",
    "- `Pclass` : la classe du billet du passager (1ère, 2ème ou 3ème classe).\n",
    "- `Sex` : le sexe du passager, un facteur important selon l'analyse exploratoire.\n",
    "- `Age` : l'âge du passager, qui influence également les chances de survie.\n",
    "- `Fare` : le tarif payé pour le billet, souvent corrélé au statut socio-économique.\n",
    "- `Embarked` : le port d'embarquement, qui peut indirectement refléter certaines conditions socio-économiques.\n",
    "\n",
    "**Pourquoi ces features ?**  \n",
    "Ces variables ont été choisies car elles sont pertinentes et ont montré une corrélation avec la survie lors de l'analyse exploratoire. De plus, elles sont facilement interprétables et permettent d'entraîner un modèle efficace sans surcharger avec trop de variables inutiles.\n",
    "\n",
    "---\n",
    "\n",
    "## 🛠️ Préparation des données\n",
    "\n",
    "- `X_train` contient les données d'entraînement avec les features sélectionnées.\n",
    "- `y_train` contient la variable cible (`Survived`) indiquant si le passager a survécu ou non.\n",
    "- `X_test` contient les données de test avec les mêmes features.\n",
    "\n",
    "---\n",
    "\n",
    "## ⚡ Normalisation des données\n",
    "\n",
    "Avant d'entraîner le modèle, nous normalisons les données (`X_train` et `X_test`) avec `StandardScaler`, pour :\n",
    "\n",
    "- Accélérer la convergence de certains algorithmes.\n",
    "- S'assurer que chaque feature contribue de manière équivalente à la distance calculée par le modèle (surtout important pour SVM et KNN).\n",
    "\n",
    "---\n",
    "\n",
    "## 🌳 Entraînement du modèle Arbre de Décision\n",
    "\n",
    "Nous utilisons un `DecisionTreeClassifier` pour :\n",
    "\n",
    "- Modéliser des décisions basées sur des règles simples et interprétables.\n",
    "- Capturer des relations non linéaires entre les variables et la survie.\n",
    "\n",
    "---\n",
    "\n",
    "## 📈 Évaluation du modèle\n",
    "\n",
    "Nous évaluons la performance du modèle sur l'ensemble d'entraînement en calculant la précision (`accuracy_score`), qui mesure la proportion de bonnes prédictions."
   ]
  },
  {
   "cell_type": "code",
   "execution_count": 119,
   "id": "afc90205-f892-43d4-9d78-5aa91e5e79b1",
   "metadata": {},
   "outputs": [
    {
     "data": {
      "image/png": "[encoded data removed]",
      "text/plain": [
       "<Figure size 640x480 with 2 Axes>"
      ]
     },
     "metadata": {},
     "output_type": "display_data"
    }
   ],
   "source": [
    "from sklearn.metrics import confusion_matrix, ConfusionMatrixDisplay\n",
    "import matplotlib.pyplot as plt\n",
    "\n",
    "# Prédictions sur l'ensemble d'entraînement\n",
    "y_pred_train = dt_model.predict(X_train_scaled)\n",
    "\n",
    "# Calcul de la matrice de confusion\n",
    "cm = confusion_matrix(y_train, y_pred_train)\n",
    "\n",
    "# Affichage de la matrice de confusion\n",
    "disp = ConfusionMatrixDisplay(confusion_matrix=cm, display_labels=dt_model.classes_)\n",
    "disp.plot(cmap=plt.cm.Blues)\n",
    "plt.title(\"Matrice de confusion - arbre de decision\")\n",
    "plt.show()"
   ]
  },
  {
   "cell_type": "markdown",
   "id": "9189adb3-cc29-4e61-987f-18c71d4c8494",
   "metadata": {},
   "source": [
    "## 📊 Matrice de confusion - Évaluation du modèle\n",
    "\n",
    "Pour évaluer plus précisément les performances du modèle Arbre de Décision, nous utilisons une **matrice de confusion**.\n",
    "\n",
    "- `confusion_matrix` : permet de comparer les vraies étiquettes (`y_train`) aux prédictions du modèle (`y_pred_train`).\n",
    "- `ConfusionMatrixDisplay` : permet d'afficher graphiquement la matrice de confusion.\n",
    "- `cmap=plt.cm.Blues` : utilise une palette de couleurs bleues pour améliorer la lisibilité du graphique.\n",
    "\n",
    "## 📈 Interprétation de la matrice de confusion\r\n",
    "\r\n",
    "L'analyse de la matrice de confusion montre que :\r\n",
    "\r\n",
    "- **327** passagers ont été correctement prédits comme ayant survécu (**vrais positifs**).\r\n",
    "- **546** passagers ont été correctement prédits comme n'ayant pas survécu (**vrais négatifs**).\r",
    "5- **13** passagers ont été incorrectement prédits comme n'ayant pas survécu alors qu'ils ont survécu (**faux négatifs**).\r\n",
    "- **3** passagers ont été incorrectement prédits comme ayant survécu alors qu'ils n'ont pas survécu (**faux positifs**).\r\n",
    "\r\n",
    "---\r\n",
    "\r\n",
    "**Résumé** :\r\n",
    "- Le modèle est très performant pour prédire les non-survivants.\r\n",
    "- Il fait très peu d'erreurs globalement, avec un faible nombre de faux positifs et de faux négatifs.\r\n",
    "- La majorité des survivants et des non-survivants ont été bien classés.\r\n",
    "\r\n",
    "Cela indique que le modèle Arbre de Décision est **précis** et **équilibré** sur l'ensemble d'entraînement.\r\n"
   ]
  },
  {
   "cell_type": "code",
   "execution_count": 122,
   "id": "cf386c4a-4e14-4930-84d3-c9a430d89dc9",
   "metadata": {},
   "outputs": [
    {
     "name": "stdout",
     "output_type": "stream",
     "text": [
      "Précision du modèle SVM sur l'ensemble d'entraînement : 0.8294\n"
     ]
    }
   ],
   "source": [
    "from sklearn.svm import SVC\n",
    "from sklearn.metrics import accuracy_score\n",
    "\n",
    "# Entraînement du modèle SVM\n",
    "svm_model = SVC(kernel='rbf', C=1.0, gamma='scale', random_state=42)\n",
    "svm_model.fit(X_train_scaled, y_train)\n",
    "\n",
    "# Prédiction sur l'ensemble d'entraînement\n",
    "y_pred_svm = svm_model.predict(X_train_scaled)\n",
    "\n",
    "# Évaluation du modèle\n",
    "accuracy_svm = accuracy_score(y_train, y_pred_svm)\n",
    "print(f\"Précision du modèle SVM sur l'ensemble d'entraînement : {accuracy_svm:.4f}\")"
   ]
  },
  {
   "cell_type": "markdown",
   "id": "9e913fdc-ed74-448b-a8a2-0b6e8934167c",
   "metadata": {},
   "source": [
    "## 🧠 Entraînement et évaluation d'un modèle SVM\n",
    "\n",
    "Nous utilisons ici un **Support Vector Machine (SVM)** pour entraîner un nouveau modèle de classification.\n",
    "\n",
    "### Paramètres utilisés :\n",
    "- `kernel='rbf'` : nous utilisons un noyau radial (RBF), adapté pour capturer des relations non linéaires entre les variables.\n",
    "- `C=1.0` : paramètre de régularisation. Un C plus élevé réduit la marge mais augmente la précision sur l'ensemble d'entraînement.\n",
    "- `gamma='scale'` : le paramètre gamma est automatiquement ajusté en fonction du nombre de caractéristiques.\n",
    "- `random_state=42` : pour garantir la reproductibilité des résultats.\n",
    "\n",
    "---\n",
    "\n",
    "### Entraînement et prédiction :\n",
    "\n",
    "- Le modèle est entraîné sur les données normalisées (`X_train_scaled`, `y_train`).\n",
    "- Nous effectuons ensuite des prédictions sur l'ensemble d'entraînement."
   ]
  },
  {
   "cell_type": "code",
   "execution_count": 125,
   "id": "0d0ebae4-4922-4f23-86d3-e3ce5223e6b8",
   "metadata": {},
   "outputs": [
    {
     "data": {
      "image/png": "[encoded data removed]",
      "text/plain": [
       "<Figure size 640x480 with 2 Axes>"
      ]
     },
     "metadata": {},
     "output_type": "display_data"
    }
   ],
   "source": [
    "from sklearn.metrics import confusion_matrix, ConfusionMatrixDisplay\n",
    "import matplotlib.pyplot as plt\n",
    "\n",
    "# Prédictions sur l'ensemble d'entraînement\n",
    "y_pred_svm = svm_model.predict(X_train_scaled)\n",
    "\n",
    "# Génération de la matrice de confusion\n",
    "cm_svm = confusion_matrix(y_train, y_pred_svm)\n",
    "\n",
    "# Affichage de la matrice de confusion\n",
    "disp_svm = ConfusionMatrixDisplay(confusion_matrix=cm_svm, display_labels=['Non Survivant', 'Survivant'])\n",
    "disp_svm.plot(cmap=plt.cm.Blues)\n",
    "plt.title('Matrice de Confusion - SVM')\n",
    "plt.show()"
   ]
  },
  {
   "cell_type": "markdown",
   "id": "b19c0429-a805-420f-a340-f03b8a0dfb33",
   "metadata": {},
   "source": [
    "## 📊 Matrice de confusion - Modèle SVM\n",
    "\n",
    "L'analyse de la matrice de confusion pour le modèle SVM montre que :\n",
    "\n",
    "- **214** passagers ont été correctement prédits comme ayant survécu (**vrais positifs**).\n",
    "- **525** passagers ont été correctement prédits comme n'ayant pas survécu (**vrais négatifs**).\n",
    "- **128** passagers ont été incorrectement prédits comme n'ayant pas survécu alors qu'ils ont survécu (**faux négatifs**).\n",
    "- **24** passagers ont été incorrectement prédits comme ayant survécu alors qu'ils n'ont pas survécu (**faux positifs**).\n",
    "\n",
    "---\n",
    "\n",
    "**Résumé** :\n",
    "- Le modèle SVM a bien identifié la majorité des non-survivants.\n",
    "- Cependant, il a eu **plus de difficultés à prédire correctement les survivants** (beaucoup de faux négatifs).\n",
    "- Cela peut indiquer que le modèle est **plus conservateur** et privilégie la prédiction \"non survie\" lorsqu’il est incertain.\n",
    "\n",
    "**Conclusion** :\n",
    "- Le modèle a une **bonne précision globale**, mais **le rappel pour les survivants est faible** (il rate beaucoup de survivants).\n",
    "- Il serait intéressant d'explorer des ajustements sur le modèle (comme modifier `C` ou utiliser un `class_weight='balanced'`) pour améliorer sa capacité à détecter correctement les survivants.\n"
   ]
  },
  {
   "cell_type": "code",
   "execution_count": 130,
   "id": "1aeb5e37-c8ad-4cfe-a795-3d6bf8efbce3",
   "metadata": {},
   "outputs": [
    {
     "name": "stdout",
     "output_type": "stream",
     "text": [
      "Précision du modèle SVM sur l'ensemble d'entraînement : 0.8294\n"
     ]
    }
   ],
   "source": [
    "from sklearn.model_selection import GridSearchCV\n",
    "\n",
    "param_grid = {\n",
    "    'C': [0.1, 1, 10, 100],\n",
    "    'gamma': ['scale', 'auto', 0.1, 1],\n",
    "    'kernel': ['rbf', 'linear', 'poly']\n",
    "}\n",
    "\n",
    "# Recherche des meilleurs hyperparamètres avec GridSearchCV\n",
    "grid_search = GridSearchCV(SVC(), param_grid, cv=5, scoring='accuracy', n_jobs=-1)\n",
    "grid_search.fit(X_train_scaled, y_train)\n",
    "\n",
    "# Meilleurs hyperparamètres trouvés\n",
    "best_params = grid_search.best_params_\n",
    "\n",
    "# Entraînement du modèle avec les meilleurs paramètres\n",
    "svm_model = grid_search.best_estimator_\n",
    "\n",
    "# Prédiction sur l'ensemble d'entraînement\n",
    "y_pred_svm = svm_model.predict(X_train_scaled)\n",
    "\n",
    "# Évaluation du modèle\n",
    "accuracy_svm = accuracy_score(y_train, y_pred_svm)\n",
    "print(f\"Précision du modèle SVM sur l'ensemble d'entraînement : {accuracy_svm:.4f}\")"
   ]
  },
  {
   "cell_type": "markdown",
   "id": "8eba1029-f028-48be-b9cc-da5813f03e25",
   "metadata": {},
   "source": [
    "🎯 Optimisation des hyperparamètres avec GridSearchCV - SVM\n",
    "🔵 Recherche effectuée sur les paramètres suivants :\n",
    "\n",
    "C : 🔢 [0.1, 1, 10, 100]\n",
    "\n",
    "gamma : 🎚️ ['scale', 'auto', 0.1, 1]\n",
    "\n",
    "kernel : ⚙️ ['rbf', 'linear', 'poly']\n",
    "\n",
    " Utilisation de GridSearchCV avec :\n",
    "\n",
    "Validation croisée : cv=5\n",
    "\n",
    "Critère d’évaluation : accuracy\n",
    "\n",
    "Parallélisation : n_jobs=-1\n",
    "\n",
    "Résultats obtenus\n",
    "Meilleurs hyperparamètres trouvés :\n",
    "best_params = grid_search.best_params_\n",
    "\n",
    "🛠️ Réentraînement du modèle avec les meilleurs paramètres.\n",
    "\n",
    " Analyse de la précision\n",
    ". Même après optimisation par GridSearchCV,\n",
    ". **la précision du modèle SVM sur l'ensemble d'entraînement est restée **🟰 quasiment la même que celle obtenue avant.\n",
    "\n",
    " Interprétation\n",
    ". Le modèle était déjà proche de sa performance optimale.\n",
    "\n",
    ". Titanic est un dataset simple et bien séparé, donc le réglage fin n'apporte pas beaucoup de gain.\n",
    "\n",
    "🔄 L'optimisation n'est vraiment utile que sur des datasets plus complexes.\n",
    "\n",
    "\n",
    "\n"
   ]
  },
  {
   "cell_type": "code",
   "execution_count": 131,
   "id": "07633031-4de7-4f7b-a729-d957b97d06bd",
   "metadata": {},
   "outputs": [
    {
     "name": "stdout",
     "output_type": "stream",
     "text": [
      "Précision du modèle KNN sur l'ensemble d'entraînement : 0.8709\n"
     ]
    }
   ],
   "source": [
    "from sklearn.neighbors import KNeighborsClassifier\n",
    "\n",
    "# Entraînement du modèle KNN\n",
    "knn_model = KNeighborsClassifier(n_neighbors=5)\n",
    "knn_model.fit(X_train_scaled, y_train)\n",
    "\n",
    "# Prédiction sur l'ensemble d'entraînement\n",
    "y_pred_knn = knn_model.predict(X_train_scaled)\n",
    "\n",
    "# Évaluation du modèle\n",
    "accuracy_knn = accuracy_score(y_train, y_pred_knn)\n",
    "print(f\"Précision du modèle KNN sur l'ensemble d'entraînement : {accuracy_knn:.4f}\")"
   ]
  },
  {
   "cell_type": "code",
   "execution_count": 132,
   "id": "83b521ff-5970-47f6-908c-76a3063a4665",
   "metadata": {},
   "outputs": [
    {
     "name": "stdout",
     "output_type": "stream",
     "text": [
      "Précision du modèle KNN sur l'ensemble d'entraînement : 0.8631\n"
     ]
    }
   ],
   "source": [
    "from sklearn.neighbors import KNeighborsClassifier\n",
    "\n",
    "# Entraînement du modèle KNN\n",
    "knn_model = KNeighborsClassifier(n_neighbors=6)\n",
    "knn_model.fit(X_train_scaled, y_train)\n",
    "\n",
    "# Prédiction sur l'ensemble d'entraînement modifier k avec validation croisee \n",
    "y_pred_knn = knn_model.predict(X_train_scaled)\n",
    "\n",
    "# Évaluation du modèle\n",
    "accuracy_knn = accuracy_score(y_train, y_pred_knn)\n",
    "print(f\"Précision du modèle KNN sur l'ensemble d'entraînement : {accuracy_knn:.4f}\")"
   ]
  },
  {
   "cell_type": "code",
   "execution_count": 140,
   "id": "3f82df5c-37c3-4e68-a7de-adce32e7d9bb",
   "metadata": {},
   "outputs": [
    {
     "name": "stdout",
     "output_type": "stream",
     "text": [
      "Précision du modèle KNN sur l'ensemble d'entraînement : 0.8597\n"
     ]
    }
   ],
   "source": [
    "from sklearn.neighbors import KNeighborsClassifier\n",
    "\n",
    "# Entraînement du modèle KNN\n",
    "knn_model = KNeighborsClassifier(n_neighbors=7)\n",
    "knn_model.fit(X_train_scaled, y_train)\n",
    "\n",
    "# Prédiction sur l'ensemble d'entraînement modifier k avec validation croisee \n",
    "y_pred_knn = knn_model.predict(X_train_scaled)\n",
    "\n",
    "# Évaluation du modèle\n",
    "accuracy_knn = accuracy_score(y_train, y_pred_knn)\n",
    "print(f\"Précision du modèle KNN sur l'ensemble d'entraînement : {accuracy_knn:.4f}\")"
   ]
  },
  {
   "cell_type": "markdown",
   "id": "bcb2a1c3-cdde-4ca1-90d1-2ef08bf0d65b",
   "metadata": {},
   "source": [
    "📚 Analyse du modèle KNN sur le dataset Titanic\n",
    "🔵 Paramètres généraux\n",
    "Modèle utilisé : KNeighborsClassifier\n",
    "\n",
    "Nombre d'attributs (features) : 6\n",
    "\n",
    "Données pré-traitées avec normalisation/scaling.\n",
    "\n",
    "📈 Résultats de la précision selon k\n",
    "\n",
    "Nombre de voisins (k)\tPrécision sur l'entraînement\n",
    "🟦 k = 5\t 0.8709\n",
    "🟦 k = 6\t0.8631\n",
    "🟦 k = 7   0.8597\n",
    "🧠 Analyse\n",
    "👉 Avec k = 5, nous obtenons la meilleure précision (87,09%).\n",
    "\n",
    "👉 En augmentant k à 6 ou 7, la précision diminue légèrement.\n",
    "\n",
    "📉 Pourquoi ?\n",
    "\n",
    "En augmentant k, le modèle devient plus lisse (moins sensible aux variations locales).\n",
    "\n",
    "Cela peut entraîner des erreurs supplémentaires si les voisins ne sont pas parfaitement alignés avec la bonne classe.\n",
    "\n",
    "🏆 Conclusion\n",
    "🎯 Pour ce dataset Titanic avec 6 attributs,\n",
    "➡️ k = 5 donne le meilleur compromis entre complexité et précision."
   ]
  },
  {
   "cell_type": "code",
   "execution_count": 133,
   "id": "33b0f605-36aa-4875-9b9b-25947853ae20",
   "metadata": {},
   "outputs": [
    {
     "data": {
      "image/png": "[encoded data removed]",
      "text/plain": [
       "<Figure size 640x480 with 2 Axes>"
      ]
     },
     "metadata": {},
     "output_type": "display_data"
    }
   ],
   "source": [
    "from sklearn.metrics import confusion_matrix, ConfusionMatrixDisplay\n",
    "import matplotlib.pyplot as plt\n",
    "\n",
    "# Prédictions sur l'ensemble d'entraînement\n",
    "y_pred_knn = knn_model.predict(X_train_scaled)\n",
    "\n",
    "# Calcul de la matrice de confusion\n",
    "cm_knn = confusion_matrix(y_train, y_pred_knn)\n",
    "\n",
    "# Affichage de la matrice de confusion\n",
    "disp_knn = ConfusionMatrixDisplay(confusion_matrix=cm_knn, display_labels=['Non Survivant', 'Survivant'])\n",
    "disp_knn.plot(cmap='Blues')\n",
    "plt.title(\"Matrice de confusion - KNN\")\n",
    "plt.show()"
   ]
  },
  {
   "cell_type": "markdown",
   "id": "0bd646e1-a8f0-4a5e-b477-00ddf8abf7f2",
   "metadata": {},
   "source": [
    "🎯 Analyse de la matrice de confusion - Modèle KNN\n",
    "\n",
    "\n",
    "\n",
    " Résultats principaux :\n",
    "\n",
    ". 247 passagers ont été correctement prédits comme survivants.\n",
    "\n",
    ". 522 passagers ont été correctement prédits comme non survivants.\n",
    "\n",
    ". 95 passagers étaient survivants, mais ont été prédit comme non survivants (faux négatifs).\n",
    "\n",
    ". 27 passagers étaient non survivants, mais ont été prédit comme survivants (faux positifs).\n",
    "\n",
    "📈 Analyse :\n",
    "Le modèle montre une bonne capacité globale à distinguer les survivants des non survivants.\n",
    "\n",
    "Toutefois, il existe un nombre important de faux négatifs (95 survivants mal classés).\n",
    "\n",
    "Cela signifie que beaucoup de survivants ne sont pas correctement détectés, ce qui peut être critique selon l'objectif de la prédiction.\n",
    "\n",
    "📌 Remarques :\n",
    "\n",
    "\n",
    ". Le modèle est plus efficace pour reconnaître les non survivants.\n",
    "\n",
    "\n",
    "Ou encore ajuster le traitement des classes (par exemple avec un poids plus fort pour les survivants).\n",
    "\n",
    "🧠 Conclusion\n",
    "\n",
    "\n",
    ".Le modèle KNN fonctionne bien, mais il faut travailler à réduire le nombre de survivants mal prédits pour améliorer sa pertinence dans une situation critique."
   ]
  },
  {
   "cell_type": "markdown",
   "id": "1cc5a45a-0e88-430c-8ec9-1f383925d2f0",
   "metadata": {},
   "source": [
    "\n",
    "\n",
    "\n",
    "\n",
    "⚙️ Pourquoi l'Arbre de Décision donne les meilleurs résultats ?\n",
    "\n",
    "\n",
    "🌟 Points forts de l'Arbre de Décision :\n",
    "\n",
    "Très bon pour gérer des variables catégorielles (comme Sex ou Pclass).\n",
    "\n",
    "Capable de capturer des règles simples et directes (exemple : \"si femme et 1ʳᵉ classe alors survie probable\").\n",
    "\n",
    "Pas besoin de scaling (contrairement à KNN et SVM).\n",
    "\n",
    "👉 L'arbre de décision est naturel pour ce problème, car il peut séparer facilement selon des critères logiques simples.\n",
    "\n",
    "🚀 Pourquoi KNN a une moins bonne précision ?\n",
    "\n",
    "📉 Faiblesses de KNN :\n",
    "\n",
    "Sensibilité aux échelles : même après normalisation, certaines distances peuvent ne pas refléter la vraie logique (être un homme ou une femme n’est pas une distance facile à mesurer).\n",
    "\n",
    "Problème si classes non équilibrées : KNN est influencé par les voisins majoritaires.\n",
    "\n",
    "Moins bon sur des données où la \"logique\" n'est pas seulement locale, mais globale (comme ici avec des décisions basées sur des règles).\n",
    "\n",
    "🚀 Pourquoi SVM est aussi moins performant ?\n",
    "\n",
    "\n",
    "📉 Faiblesses de SVM :\n",
    "\n",
    "Pas naturellement adapté aux variables catégorielles (il préfère des variables numériques continues).\n",
    "\n",
    "Difficile à bien séparer quand les classes ne sont pas parfaitement distinctes (hommes et femmes, mais aussi 1ʳᵉ, 2ᵉ, 3ᵉ classe mélangées).\n",
    "\n",
    "Tuning des paramètres (C, gamma) est complexe sur ce type de petit dataset.\n",
    "\n",
    "🎯 Conclusion finale\n",
    "\n",
    "✅ Arbre de décision ➔ Meilleur choix pour Titanic car les règles de survie sont simples et claires (sexe, classe, âge).\n",
    "\n",
    "❌ KNN ➔ Moins bon car les distances ne capturent pas bien les critères de survie.\n",
    "\n",
    "❌ SVM ➔ Moins bon car séparer avec des hyperplans est difficile sur ce dataset."
   ]
  },
  {
   "cell_type": "code",
   "execution_count": null,
   "id": "fa621bb9-8523-44ab-a1af-19d8dcf26bf2",
   "metadata": {},
   "outputs": [],
   "source": []
  }
 ],
 "metadata": {
  "kernelspec": {
   "display_name": "Python 3 (ipykernel)",
   "language": "python",
   "name": "python3"
  },
  "language_info": {
   "codemirror_mode": {
    "name": "ipython",
    "version": 3
   },
   "file_extension": ".py",
   "mimetype": "text/x-python",
   "name": "python",
   "nbconvert_exporter": "python",
   "pygments_lexer": "ipython3",
   "version": "3.12.4"
  }
 },
 "nbformat": 4,
 "nbformat_minor": 5
}
